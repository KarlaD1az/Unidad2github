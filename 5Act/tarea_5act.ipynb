{
 "cells": [
  {
   "cell_type": "code",
   "execution_count": 15,
   "metadata": {},
   "outputs": [
    {
     "name": "stdout",
     "output_type": "stream",
     "text": [
      "count ('o'): 2\n"
     ]
    }
   ],
   "source": [
    "# 4. count: Cuenta cuántas veces aparece una subcadena.\n",
    "\n",
    "\n",
    "# Definir cadena\n",
    "s = \"Hola, cómo estás?\"\n",
    "\n",
    "\n",
    "print(\"count ('o'):\", s.count(\"o\"))\n"
   ]
  },
  {
   "cell_type": "code",
   "execution_count": 16,
   "metadata": {},
   "outputs": [
    {
     "name": "stdout",
     "output_type": "stream",
     "text": [
      "encode (utf-8): b'Hola, \\xc2\\xbfc\\xc3\\xb3mo est\\xc3\\xa1s?'\n"
     ]
    }
   ],
   "source": [
    "# 5. encode: Convierte la cadena a bytes con la codificación dada.\n",
    "\n",
    "\n",
    "s = \"Hola, ¿cómo estás?\"\n",
    "print(\"encode (utf-8):\", s.encode(\"utf-8\"))\n"
   ]
  },
  {
   "cell_type": "code",
   "execution_count": 17,
   "metadata": {},
   "outputs": [
    {
     "name": "stdout",
     "output_type": "stream",
     "text": [
      "zfill: 000000000000000000000000000123\n"
     ]
    }
   ],
   "source": [
    "# 44. zfill: Rellena la cadena con ceros a la izquierda hasta alcanzar el ancho indicado.\n",
    "\n",
    "\n",
    "s = \"123\"\n",
    "print(\"zfill:\", s.zfill(30))\n"
   ]
  }
 ],
 "metadata": {
  "kernelspec": {
   "display_name": "Python 3",
   "language": "python",
   "name": "python3"
  },
  "language_info": {
   "codemirror_mode": {
    "name": "ipython",
    "version": 3
   },
   "file_extension": ".py",
   "mimetype": "text/x-python",
   "name": "python",
   "nbconvert_exporter": "python",
   "pygments_lexer": "ipython3",
   "version": "3.13.0"
  }
 },
 "nbformat": 4,
 "nbformat_minor": 2
}
