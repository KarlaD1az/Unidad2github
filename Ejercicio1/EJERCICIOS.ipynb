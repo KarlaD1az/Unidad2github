{
 "cells": [
  {
   "cell_type": "code",
   "execution_count": 2,
   "metadata": {},
   "outputs": [
    {
     "name": "stdout",
     "output_type": "stream",
     "text": [
      "capitalize: Hola mundo\n",
      "casefold: hola mundo\n",
      "center: *****Hola Mundo*****\n",
      "count ('o'): 2\n",
      "encode (utf-8): b'Hola Mundo'\n"
     ]
    }
   ],
   "source": [
    "# Definir una cadena de texto\n",
    "s = \"Hola Mundo\"\n",
    "\n",
    "# 1. capitalize: Capitaliza la primera letra.\n",
    "print(\"capitalize:\", s.capitalize())\n",
    "\n",
    "# 2. casefold: Versión en minúsculas ideal para comparaciones insensibles a mayúsculas.\n",
    "print(\"casefold:\", s.casefold())\n",
    "\n",
    "# 3. center: Centra la cadena en un ancho especificado, rellenando con un caracter.\n",
    "print(\"center:\", s.center(20, \"*\"))\n",
    "\n",
    "# 4. count: Cuenta cuántas veces aparece una subcadena.\n",
    "print(\"count ('o'):\", s.count(\"o\"))\n",
    "\n",
    "# 5. encode: Convierte la cadena a bytes con la codificación dada.\n",
    "print(\"encode (utf-8):\", s.encode(\"utf-8\"))\n"
   ]
  },
  {
   "cell_type": "code",
   "execution_count": 3,
   "metadata": {},
   "outputs": [
    {
     "name": "stdout",
     "output_type": "stream",
     "text": [
      "endswith 'Mundo': True\n",
      "expandtabs (tabsize=10): hola      mundo\n",
      "find 'M': 5\n",
      "format: El número es: 5\n",
      "format_map: El número es: 5\n"
     ]
    }
   ],
   "source": [
    "# Definir una cadena de texto\n",
    "s = \"Hola Mundo\"\n",
    "\n",
    "# 6. endswith: Verifica si la cadena termina con una subcadena.\n",
    "print(\"endswith 'Mundo':\", s.endswith(\"Mundo\"))  # Nota: Python es sensible a mayúsculas y minúsculas\n",
    "\n",
    "# 7. expandtabs: Reemplaza los tabuladores por espacios.\n",
    "s_tabs = \"hola\\tmundo\"\n",
    "print(\"expandtabs (tabsize=10):\", s_tabs.expandtabs(10))\n",
    "\n",
    "# 8. find: Retorna el índice más bajo donde se encuentra la subcadena, o -1 si no existe.\n",
    "print(\"find 'M':\", s.find(\"M\"))  # Busca 'M' mayúscula en \"Hola Mundo\"\n",
    "\n",
    "# 9. format: Formatea la cadena utilizando llaves {}.\n",
    "print(\"format:\", \"El número es: {}\".format(5))\n",
    "\n",
    "# 10. format_map: Similar a format() pero toma un diccionario.\n",
    "print(\"format_map:\", \"El número es: {num}\".format_map({\"num\": 5}))\n"
   ]
  }
 ],
 "metadata": {
  "kernelspec": {
   "display_name": "Python 3",
   "language": "python",
   "name": "python3"
  },
  "language_info": {
   "codemirror_mode": {
    "name": "ipython",
    "version": 3
   },
   "file_extension": ".py",
   "mimetype": "text/x-python",
   "name": "python",
   "nbconvert_exporter": "python",
   "pygments_lexer": "ipython3",
   "version": "3.13.0"
  }
 },
 "nbformat": 4,
 "nbformat_minor": 2
}
