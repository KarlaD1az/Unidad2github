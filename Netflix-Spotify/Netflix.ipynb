{
 "cells": [
  {
   "cell_type": "markdown",
   "metadata": {},
   "source": [
    "##NETFLIX##"
   ]
  },
  {
   "cell_type": "code",
   "execution_count": 9,
   "metadata": {},
   "outputs": [],
   "source": [
    "class Netflix:\n",
    "    def __init__(self,Name,Año,Titulo,Genero,Lenguaje,Duracion,Idioma):\n",
    "        self.Name = Name\n",
    "        self.Año = Año\n",
    "        self.Titulo = Titulo\n",
    "        self.Genero = Genero\n",
    "        self.Lenguaje = Lenguaje\n",
    "        self.Duracion = Duracion\n",
    "        self.Idioma = Idioma\n",
    "    \n",
    "    def describir(self):\n",
    "        print(\"Name:\",self.Name)\n",
    "        print(\"Año:\",self.Año)\n",
    "        print(\"Titulo:\",self.Titulo)\n",
    "        print(\"Genero:\",self.Genero)\n",
    "        print(\"Lenguaje:\",self.Lenguaje)\n",
    "        print(\"Duracion:\",self.Duracion)\n",
    "        print(\"Idioma:\", self.Idioma)\n",
    "    def __str__(self):\n",
    "        return self.describir()"
   ]
  },
  {
   "cell_type": "code",
   "execution_count": 10,
   "metadata": {},
   "outputs": [
    {
     "name": "stdout",
     "output_type": "stream",
     "text": [
      "Name: Madagascar\n",
      "Año: 2005\n",
      "Titulo: Disparatado\n",
      "Genero: Animación\n",
      "Lenguaje: Lenguaje moderado\n",
      "Duracion: 1:26:00\n",
      "Idioma: Español\n",
      "None\n"
     ]
    }
   ],
   "source": [
    "Movie = Netflix(\"Madagascar\",\"2005\", \"Disparatado\", \"Animación\", \"Lenguaje moderado\", \"1:26:00\", \"Español\")\n",
    "\n",
    "\n",
    "\n",
    "print (Movie.describir())"
   ]
  },
  {
   "cell_type": "markdown",
   "metadata": {},
   "source": [
    "Spotify"
   ]
  },
  {
   "cell_type": "code",
   "execution_count": 11,
   "metadata": {},
   "outputs": [],
   "source": [
    "class Spotify:\n",
    "    def __init__(self, titulo, artista, album, duracion, genero, idioma, año, reproducciones):\n",
    "        self.titulo = titulo\n",
    "        self.artista = artista\n",
    "        self.album = album\n",
    "        self.duracion = duracion\n",
    "        self.genero = genero\n",
    "        self.idioma = idioma\n",
    "        self.año = año\n",
    "        self.reproducciones = reproducciones\n",
    "\n",
    "    def describir(self):\n",
    "        print(f\"Título: {self.titulo}\")\n",
    "        print(f\"Artista: {self.artista}\")\n",
    "        print(f\"Álbum: {self.album}\")\n",
    "        print(f\"Duración: {self.duracion}\")\n",
    "        print(f\"Género: {self.genero}\")\n",
    "        print(f\"Idioma: {self.idioma}\")\n",
    "        print(f\"Año de lanzamiento: {self.año}\")\n",
    "        print(f\"Número de reproducciones: {self.reproducciones}\")\n",
    "\n",
    "    def __str__(self):\n",
    "        return self.describir()"
   ]
  },
  {
   "cell_type": "code",
   "execution_count": 12,
   "metadata": {},
   "outputs": [
    {
     "name": "stdout",
     "output_type": "stream",
     "text": [
      "Título: Babysita</3\n",
      "Artista: Alvaro Diaz\n",
      "Álbum: Sayonara\n",
      "Duración: 3:20\n",
      "Género: Pop urbano\n",
      "Idioma: Español\n",
      "Año de lanzamiento: 2022\n",
      "Número de reproducciones: 38K\n"
     ]
    }
   ],
   "source": [
    "cancion = Spotify(\"Babysita</3\", \"Alvaro Diaz\", \"Sayonara\", \"3:20\", \"Pop urbano\", \"Español\", 2022,\"38K\")\n",
    "\n",
    "cancion.describir()"
   ]
  }
 ],
 "metadata": {
  "kernelspec": {
   "display_name": "Python 3",
   "language": "python",
   "name": "python3"
  },
  "language_info": {
   "codemirror_mode": {
    "name": "ipython",
    "version": 3
   },
   "file_extension": ".py",
   "mimetype": "text/x-python",
   "name": "python",
   "nbconvert_exporter": "python",
   "pygments_lexer": "ipython3",
   "version": "3.13.0"
  }
 },
 "nbformat": 4,
 "nbformat_minor": 2
}
