{
 "cells": [
  {
   "cell_type": "markdown",
   "metadata": {},
   "source": [
    "Variables y tipos de datos "
   ]
  },
  {
   "cell_type": "code",
   "execution_count": 52,
   "metadata": {},
   "outputs": [],
   "source": [
    "nombre = \"Karla\" # str\n",
    "ap_paterno= \"Diaz\"\n",
    "ap_materno=\"Barrera\"\n",
    "edad= 21 # int\n",
    "altura= 1.60 # float\n",
    "es_estudiante = True # bool"
   ]
  },
  {
   "cell_type": "code",
   "execution_count": 53,
   "metadata": {},
   "outputs": [
    {
     "name": "stdout",
     "output_type": "stream",
     "text": [
      "Mi nombre es: Karla Diaz Barrera\n"
     ]
    }
   ],
   "source": [
    "print(f\"Mi nombre es: \" + nombre + \" \" + ap_paterno +\" \" + ap_materno)"
   ]
  },
  {
   "cell_type": "code",
   "execution_count": 54,
   "metadata": {},
   "outputs": [
    {
     "name": "stdout",
     "output_type": "stream",
     "text": [
      "Mi nombre es: Karla Diaz Barrera\n"
     ]
    }
   ],
   "source": [
    "print(f\"Mi nombre es: {nombre} {ap_paterno} {ap_materno}\")"
   ]
  },
  {
   "cell_type": "code",
   "execution_count": 55,
   "metadata": {},
   "outputs": [],
   "source": [
    "archivo=open(\"hola.txt\", \"a\")"
   ]
  },
  {
   "cell_type": "code",
   "execution_count": 56,
   "metadata": {},
   "outputs": [],
   "source": [
    "nueva_tarea= input(\"Introduce una nueva tarea:\")\n",
    "\n",
    "with open(\"tareas.txt\",\"a\") as archivo:\n",
    "    archivo.write(nueva_tarea + \"=/tarea\")\n"
   ]
  },
  {
   "cell_type": "code",
   "execution_count": 57,
   "metadata": {},
   "outputs": [
    {
     "name": "stdout",
     "output_type": "stream",
     "text": [
      "Sistema de Tareas\n",
      "Escribe tus tareas una por una. Para salir, ingresa un número.\n",
      "\n",
      " Se detectó un número. Cerrando sistema...\n",
      "\n",
      "Tareas ingresadas:\n",
      "1. Tarea2\n",
      "2. Tarea3\n",
      "3. Tarea3\n"
     ]
    }
   ],
   "source": [
    "\n",
    "tareas = []\n",
    "\n",
    "print(\"Sistema de Tareas\")\n",
    "print(\"Escribe tus tareas una por una. Para salir, ingresa un número.\")\n",
    "\n",
    "while True:\n",
    "    tarea = input(\"➤ Ingresa una tarea: \")\n",
    "    \n",
    "    \n",
    "    if tarea.isdigit():\n",
    "        print(\"\\n Se detectó un número. Cerrando sistema...\\n\")\n",
    "        break  # Termina el bucle\n",
    "    \n",
    "   \n",
    "    tareas.append(tarea)\n",
    "\n",
    "\n",
    "print(\"Tareas ingresadas:\")\n",
    "for i, tarea in enumerate(tareas, 1):\n",
    "    print(f\"{i}. {tarea}\")\n"
   ]
  }
 ],
 "metadata": {
  "kernelspec": {
   "display_name": "Python 3",
   "language": "python",
   "name": "python3"
  },
  "language_info": {
   "codemirror_mode": {
    "name": "ipython",
    "version": 3
   },
   "file_extension": ".py",
   "mimetype": "text/x-python",
   "name": "python",
   "nbconvert_exporter": "python",
   "pygments_lexer": "ipython3",
   "version": "3.13.0"
  }
 },
 "nbformat": 4,
 "nbformat_minor": 2
}
