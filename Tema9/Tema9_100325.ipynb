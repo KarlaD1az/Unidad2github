{
 "cells": [
  {
   "cell_type": "markdown",
   "metadata": {},
   "source": [
    "class = Fabrica\n",
    "constructores = maquinas de las fabricas\n",
    "parametros = objetos que maneja la maquina\n",
    "self = this = objeto especifico \n"
   ]
  },
  {
   "cell_type": "code",
   "execution_count": 140,
   "metadata": {},
   "outputs": [],
   "source": [
    "class Pokemon:\n",
    "    name = \"\"\n",
    "    level = 0\n",
    "    hp = 0\n",
    "    attack = 0\n",
    "    defense = 0 \n",
    "\n",
    "    def describir(self):\n",
    "        print(\"Nombre\", self.name)\n",
    "        print(\"Nivel\", self.level)\n",
    "        print(\"Hp\", self.hp)\n",
    "        print(\"Ataque\", self.attack)\n",
    "        print(\"Defensa\", self.defense)\n",
    "\n",
    "def ataque(self):\n",
    "    print(\"Ahh tira fuego\")"
   ]
  },
  {
   "cell_type": "code",
   "execution_count": 141,
   "metadata": {},
   "outputs": [],
   "source": [
    "import random "
   ]
  },
  {
   "cell_type": "code",
   "execution_count": 142,
   "metadata": {},
   "outputs": [
    {
     "name": "stdout",
     "output_type": "stream",
     "text": [
      "Nombre Cuchurrumin\n",
      "Nivel 3\n",
      "Hp 45\n",
      "Ataque 52\n",
      "Defensa 43\n"
     ]
    }
   ],
   "source": [
    "pokemon1= Pokemon()\n",
    "pokemon1.name= \"Cuchurrumin\"\n",
    "pokemon1.level= random.randint(1, 10)\n",
    "pokemon1.hp= 45\n",
    "pokemon1.attack=52\n",
    "pokemon1.defense=43\n",
    "pokemon1.describir()\n"
   ]
  },
  {
   "cell_type": "code",
   "execution_count": 143,
   "metadata": {},
   "outputs": [
    {
     "name": "stdout",
     "output_type": "stream",
     "text": [
      "Nombre Felipe\n",
      "Nivel 5\n",
      "Hp 45\n",
      "Ataque 49\n",
      "Defensa 43\n"
     ]
    }
   ],
   "source": [
    "pokemon2= Pokemon()\n",
    "pokemon2.name= \"Felipe\"\n",
    "pokemon2.level= 5\n",
    "pokemon2.hp= 45\n",
    "pokemon2.attack=49\n",
    "pokemon2.defense=43\n",
    "pokemon2.describir()\n"
   ]
  },
  {
   "cell_type": "code",
   "execution_count": 144,
   "metadata": {},
   "outputs": [],
   "source": [
    "class Animal: \n",
    "    def __init__(self,raza,color,edad,sexo,patas):\n",
    "        self.raza = raza\n",
    "        self.color = color\n",
    "        self.edad = edad\n",
    "        self.sexo = sexo \n",
    "        self.patas = patas\n",
    "\n",
    "    def describir(self):\n",
    "        print(\"Raza:\",self.raza)\n",
    "        print(\"Color:\",self.color)\n",
    "        print(\"Edad:\",self.edad)\n",
    "        print(\"Sexo:\",self.sexo)\n",
    "        print(\"Patas:\",self.patas)"
   ]
  },
  {
   "cell_type": "code",
   "execution_count": 145,
   "metadata": {},
   "outputs": [
    {
     "name": "stdout",
     "output_type": "stream",
     "text": [
      "Raza: Pastor Aleman\n",
      "Color: Cafe\n",
      "Edad: 5\n",
      "Sexo: Macho\n",
      "Patas: 4\n"
     ]
    }
   ],
   "source": [
    "perro1 = Animal(\"Pastor Aleman\", \"Cafe\", 5, \"Macho\",4)\n",
    "perro1.describir()\n"
   ]
  }
 ],
 "metadata": {
  "kernelspec": {
   "display_name": "Python 3",
   "language": "python",
   "name": "python3"
  },
  "language_info": {
   "codemirror_mode": {
    "name": "ipython",
    "version": 3
   },
   "file_extension": ".py",
   "mimetype": "text/x-python",
   "name": "python",
   "nbconvert_exporter": "python",
   "pygments_lexer": "ipython3",
   "version": "3.13.0"
  }
 },
 "nbformat": 4,
 "nbformat_minor": 2
}
